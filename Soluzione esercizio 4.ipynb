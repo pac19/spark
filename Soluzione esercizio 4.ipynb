{
 "cells": [
  {
   "cell_type": "code",
   "execution_count": 1,
   "metadata": {},
   "outputs": [
    {
     "name": "stderr",
     "output_type": "stream",
     "text": [
      "Setting default log level to \"WARN\".\n",
      "To adjust logging level use sc.setLogLevel(newLevel). For SparkR, use setLogLevel(newLevel).\n",
      "24/04/07 14:50:37 WARN NativeCodeLoader: Unable to load native-hadoop library for your platform... using builtin-java classes where applicable\n",
      "24/04/07 14:50:38 WARN Utils: Service 'SparkUI' could not bind on port 4040. Attempting port 4041.\n"
     ]
    }
   ],
   "source": [
    "#import findspark as fs\n",
    "#fs.init()\n",
    "\n",
    "\n",
    "import pyspark\n",
    "\n",
    "sc = pyspark.SparkContext()"
   ]
  },
  {
   "cell_type": "code",
   "execution_count": 2,
   "metadata": {},
   "outputs": [
    {
     "name": "stderr",
     "output_type": "stream",
     "text": [
      "                                                                                \r"
     ]
    },
    {
     "data": {
      "text/plain": [
       "[2, 4, 6]"
      ]
     },
     "execution_count": 2,
     "metadata": {},
     "output_type": "execute_result"
    }
   ],
   "source": [
    "array = sc.parallelize([1,2,3])\n",
    "array.map(lambda x : x*2).take(3)"
   ]
  },
  {
   "cell_type": "markdown",
   "metadata": {},
   "source": [
    "#### Word count sul file \"README.md\".####\n",
    "Utilizzando la funzione sortByKey, qual è la **terza** parola più frequente?"
   ]
  },
  {
   "cell_type": "code",
   "execution_count": 3,
   "metadata": {},
   "outputs": [
    {
     "data": {
      "text/plain": [
       "['# Apache Spark',\n",
       " '',\n",
       " 'Spark is a fast and general cluster computing system for Big Data. It provides',\n",
       " 'high-level APIs in Scala, Java, Python, and R, and an optimized engine that',\n",
       " 'supports general computation graphs for data analysis. It also supports a']"
      ]
     },
     "execution_count": 3,
     "metadata": {},
     "output_type": "execute_result"
    }
   ],
   "source": [
    "file = sc.textFile(\"README.md\")\n",
    "file.take(5)"
   ]
  },
  {
   "cell_type": "code",
   "execution_count": 4,
   "metadata": {},
   "outputs": [
    {
     "data": {
      "text/plain": [
       "['#', 'Apache', 'Spark', 'Spark', 'is']"
      ]
     },
     "execution_count": 4,
     "metadata": {},
     "output_type": "execute_result"
    }
   ],
   "source": [
    "split = file.flatMap(lambda line: line.split())\n",
    "split.take(5)"
   ]
  },
  {
   "cell_type": "code",
   "execution_count": 5,
   "metadata": {},
   "outputs": [
    {
     "data": {
      "text/plain": [
       "[('#', 1), ('Apache', 1), ('Spark', 1), ('Spark', 1), ('is', 1)]"
      ]
     },
     "execution_count": 5,
     "metadata": {},
     "output_type": "execute_result"
    }
   ],
   "source": [
    "tuples = split.map(lambda word: (word,1))\n",
    "tuples.take(5)"
   ]
  },
  {
   "cell_type": "code",
   "execution_count": 6,
   "metadata": {},
   "outputs": [
    {
     "data": {
      "text/plain": [
       "[('#', 1),\n",
       " ('fast', 1),\n",
       " ('and', 10),\n",
       " ('general', 3),\n",
       " ('computing', 1),\n",
       " ('for', 12),\n",
       " ('Big', 1),\n",
       " ('It', 2),\n",
       " ('Scala,', 1),\n",
       " ('Python,', 2),\n",
       " ('an', 4),\n",
       " ('optimized', 1),\n",
       " ('supports', 2),\n",
       " ('analysis.', 1),\n",
       " ('set', 2),\n",
       " ('of', 5),\n",
       " ('higher-level', 1),\n",
       " ('SQL', 2),\n",
       " ('MLlib', 1),\n",
       " ('machine', 1),\n",
       " ('learning,', 1),\n",
       " ('GraphX', 1),\n",
       " ('graph', 1),\n",
       " ('processing,', 1),\n",
       " ('##', 9)]"
      ]
     },
     "execution_count": 6,
     "metadata": {},
     "output_type": "execute_result"
    }
   ],
   "source": [
    "reduced = tuples.reduceByKey(lambda a,b:a+b)\n",
    "reduced.take(25)"
   ]
  },
  {
   "cell_type": "code",
   "execution_count": 7,
   "metadata": {},
   "outputs": [
    {
     "data": {
      "text/plain": [
       "[(1, '#'), (1, 'fast'), (10, 'and'), (3, 'general'), (1, 'computing')]"
      ]
     },
     "execution_count": 7,
     "metadata": {},
     "output_type": "execute_result"
    }
   ],
   "source": [
    "swapped = reduced.map(lambda tuple: (tuple[1],tuple[0]))\n",
    "swapped.take(5)"
   ]
  },
  {
   "cell_type": "code",
   "execution_count": 8,
   "metadata": {},
   "outputs": [
    {
     "data": {
      "text/plain": [
       "[(24, 'the'), (17, 'to'), (16, 'Spark'), (12, 'for'), (10, 'and')]"
      ]
     },
     "execution_count": 8,
     "metadata": {},
     "output_type": "execute_result"
    }
   ],
   "source": [
    "result = swapped.sortByKey(False)\n",
    "result.take(5)"
   ]
  },
  {
   "cell_type": "markdown",
   "metadata": {},
   "source": [
    "La **terza** parola più frequente è"
   ]
  },
  {
   "cell_type": "code",
   "execution_count": 9,
   "metadata": {},
   "outputs": [
    {
     "data": {
      "text/plain": [
       "'Spark'"
      ]
     },
     "execution_count": 9,
     "metadata": {},
     "output_type": "execute_result"
    }
   ],
   "source": [
    "result.take(3)[2][1]"
   ]
  },
  {
   "cell_type": "code",
   "execution_count": 10,
   "metadata": {},
   "outputs": [
    {
     "data": {
      "text/plain": [
       "'La terza parola più frequente è Spark'"
      ]
     },
     "execution_count": 10,
     "metadata": {},
     "output_type": "execute_result"
    }
   ],
   "source": [
    "thirdMost = sc.textFile(\"README.md\").flatMap(lambda line: line.split()) \\\n",
    "                                    .map(lambda word: (word,1)) \\\n",
    "                                    .reduceByKey(lambda a,b:a+b) \\\n",
    "                                    .map(lambda tuple: (tuple[1],tuple[0])) \\\n",
    "                                    .sortByKey(False) \\\n",
    "                                    .take(3)[2][1]\n",
    "\n",
    "'La terza parola più frequente è '+thirdMost"
   ]
  },
  {
   "cell_type": "code",
   "execution_count": 11,
   "metadata": {},
   "outputs": [
    {
     "name": "stdout",
     "output_type": "stream",
     "text": [
      "Pi is roughly 3.240000\n"
     ]
    }
   ],
   "source": [
    "from random import random\n",
    "from operator import add\n",
    "n = 1000\n",
    "\n",
    "def f(_):\n",
    "    x = random() * 2 - 1\n",
    "    y = random() * 2 - 1\n",
    "    return 1 if x ** 2 + y ** 2 <= 1 else 0\n",
    "\n",
    "count = sc.parallelize(range(1, n + 1)).map(f).reduce(add)\n",
    "print(\"Pi is roughly %f\" % (4.0 * count / n))"
   ]
  },
  {
   "cell_type": "markdown",
   "metadata": {},
   "source": [
    "#### Dati temperatura ####"
   ]
  },
  {
   "cell_type": "markdown",
   "metadata": {},
   "source": [
    "Qual è la temperatura massima registrata a Locarno?"
   ]
  },
  {
   "cell_type": "code",
   "execution_count": 12,
   "metadata": {},
   "outputs": [
    {
     "data": {
      "text/plain": [
       "[' ',\n",
       " '',\n",
       " 'stn;time;tre200s0',\n",
       " 'OTL;198701310000;-1.5',\n",
       " 'OTL;198701310010;-1.4',\n",
       " 'OTL;198701310020;-1.4',\n",
       " 'OTL;198701310030;-1.4',\n",
       " 'OTL;198701310040;-1.5',\n",
       " 'OTL;198701310050;-1.5',\n",
       " 'OTL;198701310100;-1.5',\n",
       " 'OTL;198701310110;-1.6',\n",
       " 'OTL;198701310120;-1.6',\n",
       " 'OTL;198701310130;-1.6',\n",
       " 'OTL;198701310140;-1.6',\n",
       " 'OTL;198701310150;-1.7']"
      ]
     },
     "execution_count": 12,
     "metadata": {},
     "output_type": "execute_result"
    }
   ],
   "source": [
    "locarno = sc.textFile(\"locarno.txt\")\n",
    "locarno.take(15)"
   ]
  },
  {
   "cell_type": "code",
   "execution_count": 13,
   "metadata": {},
   "outputs": [
    {
     "data": {
      "text/plain": [
       "['OTL;198701310000;-1.5',\n",
       " 'OTL;198701310010;-1.4',\n",
       " 'OTL;198701310020;-1.4',\n",
       " 'OTL;198701310030;-1.4',\n",
       " 'OTL;198701310040;-1.5']"
      ]
     },
     "execution_count": 13,
     "metadata": {},
     "output_type": "execute_result"
    }
   ],
   "source": [
    "# filter out bad lines\n",
    "\n",
    "def clean(line):\n",
    "    if line.strip() != \"\":\n",
    "        try:\n",
    "            float(line.split(\";\")[2])\n",
    "            return True\n",
    "        except:\n",
    "            return False\n",
    "    return False\n",
    "\n",
    "cleaned = locarno.filter(clean)\n",
    "cleaned.take(5)"
   ]
  },
  {
   "cell_type": "code",
   "execution_count": 14,
   "metadata": {},
   "outputs": [
    {
     "data": {
      "text/plain": [
       "[('1987', -1.5),\n",
       " ('1987', -1.4),\n",
       " ('1987', -1.4),\n",
       " ('1987', -1.4),\n",
       " ('1987', -1.5)]"
      ]
     },
     "execution_count": 14,
     "metadata": {},
     "output_type": "execute_result"
    }
   ],
   "source": [
    "tuples = cleaned.map(lambda line: (line.split(\";\")[1][0:4],float(line.split(\";\")[2])))\n",
    "tuples.take(5)"
   ]
  },
  {
   "cell_type": "code",
   "execution_count": 15,
   "metadata": {},
   "outputs": [
    {
     "name": "stderr",
     "output_type": "stream",
     "text": [
      "                                                                                \r"
     ]
    },
    {
     "data": {
      "text/plain": [
       "[('1988', 30.3),\n",
       " ('1990', 32.2),\n",
       " ('1995', 32.5),\n",
       " ('1999', 29.8),\n",
       " ('2000', 32.0),\n",
       " ('2004', 31.9),\n",
       " ('2005', 32.0),\n",
       " ('2008', 31.2),\n",
       " ('2010', 32.6),\n",
       " ('2011', 32.5),\n",
       " ('2013', 33.5),\n",
       " ('2014', 32.2),\n",
       " ('2017', 34.5),\n",
       " ('2018', 35.0),\n",
       " ('2019', 35.5),\n",
       " ('2020', 34.4),\n",
       " ('2021', 33.7),\n",
       " ('2023', 34.9),\n",
       " ('1987', 30.0),\n",
       " ('1989', 32.7),\n",
       " ('1991', 31.9),\n",
       " ('1992', 33.2),\n",
       " ('1993', 32.3),\n",
       " ('1994', 34.0),\n",
       " ('1996', 33.2),\n",
       " ('1997', 30.4),\n",
       " ('1998', 33.6),\n",
       " ('2001', 31.2),\n",
       " ('2002', 31.6),\n",
       " ('2003', 37.9)]"
      ]
     },
     "execution_count": 15,
     "metadata": {},
     "output_type": "execute_result"
    }
   ],
   "source": [
    "result2 = tuples.reduceByKey(lambda a,b: max(a,b))\n",
    "result2.take(30)"
   ]
  },
  {
   "cell_type": "code",
   "execution_count": 16,
   "metadata": {},
   "outputs": [
    {
     "data": {
      "text/plain": [
       "[('2003', 37.9),\n",
       " ('2015', 36.8),\n",
       " ('2019', 35.5),\n",
       " ('2018', 35.0),\n",
       " ('2023', 34.9),\n",
       " ('2022', 34.9),\n",
       " ('2017', 34.5),\n",
       " ('2020', 34.4),\n",
       " ('2006', 34.4),\n",
       " ('1994', 34.0),\n",
       " ('2012', 33.9),\n",
       " ('2021', 33.7),\n",
       " ('1998', 33.6),\n",
       " ('2013', 33.5),\n",
       " ('1992', 33.2),\n",
       " ('1996', 33.2),\n",
       " ('1989', 32.7),\n",
       " ('2010', 32.6),\n",
       " ('1995', 32.5),\n",
       " ('2011', 32.5),\n",
       " ('1993', 32.3),\n",
       " ('1990', 32.2),\n",
       " ('2014', 32.2),\n",
       " ('2000', 32.0),\n",
       " ('2005', 32.0),\n",
       " ('2007', 32.0),\n",
       " ('2004', 31.9),\n",
       " ('1991', 31.9),\n",
       " ('2016', 31.8),\n",
       " ('2002', 31.6)]"
      ]
     },
     "execution_count": 16,
     "metadata": {},
     "output_type": "execute_result"
    }
   ],
   "source": [
    "result22 = result2.takeOrdered(30,lambda t: -t[1])\n",
    "result22"
   ]
  },
  {
   "cell_type": "markdown",
   "metadata": {},
   "source": [
    "Qual è la temperatura media per anno registrata a Lugano?"
   ]
  },
  {
   "cell_type": "code",
   "execution_count": 17,
   "metadata": {},
   "outputs": [],
   "source": [
    "lugano = sc.textFile(\"lugano.txt\")"
   ]
  },
  {
   "cell_type": "code",
   "execution_count": 18,
   "metadata": {},
   "outputs": [
    {
     "data": {
      "text/plain": [
       "['LUG;198701310000;-0.5',\n",
       " 'LUG;198701310010;-0.7',\n",
       " 'LUG;198701310020;-0.5',\n",
       " 'LUG;198701310030;-0.7',\n",
       " 'LUG;198701310040;-0.7']"
      ]
     },
     "execution_count": 18,
     "metadata": {},
     "output_type": "execute_result"
    }
   ],
   "source": [
    "cleaned = lugano.filter(clean)\n",
    "cleaned.take(5)"
   ]
  },
  {
   "cell_type": "markdown",
   "metadata": {},
   "source": [
    "Per ogni riga creiamo una tupla **``(anno, temperatura)``**"
   ]
  },
  {
   "cell_type": "code",
   "execution_count": 19,
   "metadata": {},
   "outputs": [
    {
     "data": {
      "text/plain": [
       "[('1987', -0.5),\n",
       " ('1987', -0.7),\n",
       " ('1987', -0.5),\n",
       " ('1987', -0.7),\n",
       " ('1987', -0.7)]"
      ]
     },
     "execution_count": 19,
     "metadata": {},
     "output_type": "execute_result"
    }
   ],
   "source": [
    "tuples = cleaned.map(lambda line: (line.split(\";\")[1][0:4],float(line.split(\";\")[2])))\n",
    "tuples.take(5)"
   ]
  },
  {
   "cell_type": "markdown",
   "metadata": {},
   "source": [
    "Per ogni tupla (anno, temperatura) creaiamo una tupla **``(anno, (temperatura, 1))``**"
   ]
  },
  {
   "cell_type": "code",
   "execution_count": 20,
   "metadata": {},
   "outputs": [
    {
     "data": {
      "text/plain": [
       "[('1987', (-0.5, 1)),\n",
       " ('1987', (-0.7, 1)),\n",
       " ('1987', (-0.5, 1)),\n",
       " ('1987', (-0.7, 1)),\n",
       " ('1987', (-0.7, 1))]"
      ]
     },
     "execution_count": 20,
     "metadata": {},
     "output_type": "execute_result"
    }
   ],
   "source": [
    "tuples2 = tuples.map(lambda t: (t[0], (t[1],1)))\n",
    "tuples2.take(5)"
   ]
  },
  {
   "cell_type": "markdown",
   "metadata": {},
   "source": [
    "Riduciamo le tuple per chiave. La funzione prende due tuple in ingresso e crea una nuova tupla con a somma delle due chiavi e la somme dei due valori:\n",
    "\n",
    "esempio:\n",
    "\n",
    "``('1987', (-1.8, 1)) , ('1987', (-1.8, 1)) -> ('1987', (-3.6, 2))``\n",
    "\n",
    "\n",
    "Alla fine della riduzione otteniamo una lista di tuple:\n",
    "\n",
    "**``(anno, (somma temperature per l'anno, conteggio delle temperature))``**"
   ]
  },
  {
   "cell_type": "code",
   "execution_count": 21,
   "metadata": {},
   "outputs": [
    {
     "name": "stderr",
     "output_type": "stream",
     "text": [
      "                                                                                \r"
     ]
    },
    {
     "data": {
      "text/plain": [
       "[('1988', (652553.3000000002, 52704)),\n",
       " ('1990', (665311.4000000082, 52560)),\n",
       " ('1995', (655313.599999996, 52560)),\n",
       " ('1999', (661101.1000000001, 52560)),\n",
       " ('2000', (683230.6999999989, 52704))]"
      ]
     },
     "execution_count": 21,
     "metadata": {},
     "output_type": "execute_result"
    }
   ],
   "source": [
    "tuples3 = tuples2.reduceByKey(lambda a,b: (a[0]+b[0],a[1]+b[1]))\n",
    "tuples3.take(5)"
   ]
  },
  {
   "cell_type": "markdown",
   "metadata": {},
   "source": [
    "Calcoliamo la media per gni anno.\n",
    "\n",
    "Esempio:\n",
    "\n",
    "``('1990', (636838.6999999977, 52560))  -> ('1990', (636838.6999999977/52560)) -> ('1990', 12.116413622526593)``\n"
   ]
  },
  {
   "cell_type": "code",
   "execution_count": 22,
   "metadata": {},
   "outputs": [
    {
     "data": {
      "text/plain": [
       "[('1987', 12.609940079754475),\n",
       " ('1988', 12.381475789313907),\n",
       " ('1989', 12.285871385083706),\n",
       " ('1990', 12.658131659056473),\n",
       " ('1991', 12.365108909379032),\n",
       " ('1992', 12.377701882209953),\n",
       " ('1993', 12.131948249619393),\n",
       " ('1994', 13.190601217655882),\n",
       " ('1995', 12.467914764079072),\n",
       " ('1996', 12.105940725561618),\n",
       " ('1997', 13.00314117199389),\n",
       " ('1998', 12.460222602739831),\n",
       " ('1999', 12.578027016742771),\n",
       " ('2000', 12.963545461445031),\n",
       " ('2001', 12.767404870623942),\n",
       " ('2002', 13.149815449010502),\n",
       " ('2003', 13.756527447436167),\n",
       " ('2004', 12.64842896174871),\n",
       " ('2005', 12.611093987823436),\n",
       " ('2006', 13.100783866058082),\n",
       " ('2007', 13.577500000000091),\n",
       " ('2008', 12.660902398300005),\n",
       " ('2009', 13.219463470319655),\n",
       " ('2010', 12.164147640791622),\n",
       " ('2011', 13.580441400304686)]"
      ]
     },
     "execution_count": 22,
     "metadata": {},
     "output_type": "execute_result"
    }
   ],
   "source": [
    "result3 = tuples3.map(lambda t: (t[0],t[1][0]/t[1][1])).sortByKey()\n",
    "result3.cache\n",
    "result3.take(25)"
   ]
  },
  {
   "cell_type": "markdown",
   "metadata": {},
   "source": [
    "Visualizziamo il risultato"
   ]
  },
  {
   "cell_type": "code",
   "execution_count": 23,
   "metadata": {},
   "outputs": [
    {
     "data": {
      "image/png": "[encoded data removed]",
      "text/plain": [
       "<Figure size 1200x1000 with 1 Axes>"
      ]
     },
     "metadata": {},
     "output_type": "display_data"
    }
   ],
   "source": [
    "import matplotlib.pyplot as plt\n",
    "\n",
    "count = result3.map(lambda x: x[1]).collect()\n",
    "year = result3.map(lambda x: x[0]).collect()\n",
    "\n",
    "fig, ax = plt.subplots(figsize=(12,10))\n",
    "\n",
    "ax.barh(range(len(count)), count)\n",
    "ax.set_yticks(range(len(count)))\n",
    "ax.set_yticklabels(year)\n",
    "ax.set_xlabel('temperatura')\n",
    "ax.set_ylabel('anno')\n",
    "ax.set_title('Temperatura media per anno registrata a Lugano')\n",
    "ax.xaxis.grid()\n",
    "plt.show()"
   ]
  },
  {
   "cell_type": "markdown",
   "metadata": {},
   "source": [
    "Qual è la temperatura media per mese per tutti i dati (Lugano + Locarno)?"
   ]
  },
  {
   "cell_type": "code",
   "execution_count": 24,
   "metadata": {},
   "outputs": [],
   "source": [
    "lugloc = sc.textFile(\"lugano.txt,locarno.txt\")"
   ]
  },
  {
   "cell_type": "markdown",
   "metadata": {},
   "source": [
    "Stesso procedimento di prima, su entrambi i file. Calcolo medio per mese."
   ]
  },
  {
   "cell_type": "code",
   "execution_count": 25,
   "metadata": {},
   "outputs": [
    {
     "name": "stderr",
     "output_type": "stream",
     "text": [
      "                                                                                \r"
     ]
    },
    {
     "data": {
      "text/plain": [
       "[('01', 3.9201358429567454),\n",
       " ('02', 5.3533454945391075),\n",
       " ('03', 9.106399040689233),\n",
       " ('04', 12.253278278278485),\n",
       " ('05', 16.28282839290924)]"
      ]
     },
     "execution_count": 25,
     "metadata": {},
     "output_type": "execute_result"
    }
   ],
   "source": [
    "def tempMonth(rdd):\n",
    "    return rdd.filter(clean)\\\n",
    "            .map(lambda line: (line.split(\";\")[1][4:6],float(line.split(\";\")[2])))\\\n",
    "            .map(lambda t: (t[0], (t[1],1)))\\\n",
    "            .reduceByKey(lambda a,b: (a[0]+b[0],a[1]+b[1]))\\\n",
    "            .map(lambda t: (t[0],t[1][0]/t[1][1]))\\\n",
    "            .sortByKey()\n",
    "\n",
    "result4 = tempMonth(lugloc)\n",
    "result4.take(5)"
   ]
  },
  {
   "cell_type": "code",
   "execution_count": 26,
   "metadata": {},
   "outputs": [
    {
     "data": {
      "image/png": "[encoded data removed]",
      "text/plain": [
       "<Figure size 1200x1000 with 1 Axes>"
      ]
     },
     "metadata": {},
     "output_type": "display_data"
    }
   ],
   "source": [
    "count = result4.map(lambda x: x[1]).collect()\n",
    "year = result4.map(lambda x: x[0]).collect()\n",
    "\n",
    "fig, ax = plt.subplots(figsize=(12,10))\n",
    "\n",
    "ax.barh(range(len(count)), count)\n",
    "ax.set_yticks(range(len(count)))\n",
    "ax.set_yticklabels([\"gennaio\", \"febbraio\", \"marzo\", \"aprile\", \"maggio\", \"giugno\", \"luglio\", \"agosto\", \"settembre\", \"ottobre\", \"novembre\", \"dicembre\"])\n",
    "ax.set_xlabel('temperatura')\n",
    "ax.set_ylabel('mese')\n",
    "ax.set_title('Temperatura media per mese registrata a Lugano e Locarno')\n",
    "ax.xaxis.grid()\n",
    "plt.show()"
   ]
  },
  {
   "cell_type": "code",
   "execution_count": null,
   "metadata": {},
   "outputs": [],
   "source": []
  }
 ],
 "metadata": {
  "kernelspec": {
   "display_name": "Python 3 (ipykernel)",
   "language": "python",
   "name": "python3"
  },
  "language_info": {
   "codemirror_mode": {
    "name": "ipython",
    "version": 3
   },
   "file_extension": ".py",
   "mimetype": "text/x-python",
   "name": "python",
   "nbconvert_exporter": "python",
   "pygments_lexer": "ipython3",
   "version": "3.11.8"
  }
 },
 "nbformat": 4,
 "nbformat_minor": 4
}
