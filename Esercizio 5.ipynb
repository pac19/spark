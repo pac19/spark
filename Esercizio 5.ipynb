{
 "cells": [
  {
   "cell_type": "code",
   "execution_count": 1,
   "metadata": {},
   "outputs": [
    {
     "name": "stderr",
     "output_type": "stream",
     "text": [
      "Setting default log level to \"WARN\".\n",
      "To adjust logging level use sc.setLogLevel(newLevel). For SparkR, use setLogLevel(newLevel).\n",
      "24/04/08 20:13:46 WARN NativeCodeLoader: Unable to load native-hadoop library for your platform... using builtin-java classes where applicable\n"
     ]
    },
    {
     "data": {
      "text/html": [
       "\n",
       "            <div>\n",
       "                <p><b>SparkSession - in-memory</b></p>\n",
       "                \n",
       "        <div>\n",
       "            <p><b>SparkContext</b></p>\n",
       "\n",
       "            <p><a href=\"http://10.11.73.199:4040\">Spark UI</a></p>\n",
       "\n",
       "            <dl>\n",
       "              <dt>Version</dt>\n",
       "                <dd><code>v3.4.1</code></dd>\n",
       "              <dt>Master</dt>\n",
       "                <dd><code>local</code></dd>\n",
       "              <dt>AppName</dt>\n",
       "                <dd><code>Esercizio 5</code></dd>\n",
       "            </dl>\n",
       "        </div>\n",
       "        \n",
       "            </div>\n",
       "        "
      ],
      "text/plain": [
       "<pyspark.sql.session.SparkSession at 0x1055c4890>"
      ]
     },
     "metadata": {},
     "output_type": "display_data"
    }
   ],
   "source": [
    "from pyspark.sql import SparkSession\n",
    "\n",
    "spark = SparkSession \\\n",
    "    .builder \\\n",
    "    .appName(\"Esercizio 5\") \\\n",
    "    .master(\"local\") \\\n",
    "    .getOrCreate()\n",
    "display(spark)"
   ]
  },
  {
   "cell_type": "markdown",
   "metadata": {},
   "source": [
    "# Dati temperatura Lugano\n",
    "\n",
    "\n"
   ]
  },
  {
   "cell_type": "code",
   "execution_count": 2,
   "metadata": {},
   "outputs": [],
   "source": [
    "lugano = spark.sparkContext.textFile(\"lugano.txt\")"
   ]
  },
  {
   "cell_type": "code",
   "execution_count": 3,
   "metadata": {},
   "outputs": [
    {
     "name": "stderr",
     "output_type": "stream",
     "text": [
      "                                                                                \r"
     ]
    },
    {
     "data": {
      "text/plain": [
       "1941171"
      ]
     },
     "execution_count": 3,
     "metadata": {},
     "output_type": "execute_result"
    }
   ],
   "source": [
    "def clean(line):\n",
    "    if line.strip() != \"\":\n",
    "        try:\n",
    "            float(line.split(\";\")[2])\n",
    "            return True\n",
    "        except:\n",
    "            return False\n",
    "    return False\n",
    "\n",
    "cleaned = lugano.filter(clean)\n",
    "cleaned.take(5)\n",
    "cleaned.count()\n",
    "\n"
   ]
  },
  {
   "cell_type": "code",
   "execution_count": 4,
   "metadata": {},
   "outputs": [
    {
     "name": "stdout",
     "output_type": "stream",
     "text": [
      "root\n",
      " |-- name: string (nullable = true)\n",
      " |-- date: string (nullable = true)\n",
      " |-- temp: double (nullable = true)\n",
      "\n"
     ]
    }
   ],
   "source": [
    "from pyspark.sql import Row\n",
    "from pyspark.sql.functions import unix_timestamp\n",
    "\n",
    "luganoRows = cleaned.map(lambda p: Row(name=p.split(\";\")[0], date=p.split(\";\")[1][0:8], temp=float(p.split(\";\")[2])))\n",
    "luganoDF = luganoRows.toDF()\n",
    "luganoDF.printSchema()"
   ]
  },
  {
   "cell_type": "code",
   "execution_count": 5,
   "metadata": {},
   "outputs": [
    {
     "name": "stdout",
     "output_type": "stream",
     "text": [
      "root\n",
      " |-- name: string (nullable = true)\n",
      " |-- date: string (nullable = true)\n",
      " |-- temp: double (nullable = true)\n",
      " |-- datetime: timestamp (nullable = true)\n",
      "\n"
     ]
    }
   ],
   "source": [
    "luganoDF2 = luganoDF.withColumn(\"datetime\", unix_timestamp(\"date\", \"yyyyMMdd\").cast(\"timestamp\"))\n",
    "luganoDF2.printSchema()"
   ]
  },
  {
   "cell_type": "code",
   "execution_count": 6,
   "metadata": {},
   "outputs": [
    {
     "name": "stderr",
     "output_type": "stream",
     "text": [
      "                                                                                \r"
     ]
    },
    {
     "data": {
      "text/plain": [
       "[Row(min=-49.8, max=48.5, mean=13.038331811058942, sd=7.501534667983691, count=1941171)]"
      ]
     },
     "execution_count": 6,
     "metadata": {},
     "output_type": "execute_result"
    }
   ],
   "source": [
    "from pyspark.sql.functions import *\n",
    "\n",
    "luganoDF2.select(\n",
    "    min(luganoDF2.temp).alias(\"min\"),\n",
    "    max(luganoDF2.temp).alias(\"max\"), \n",
    "    mean(luganoDF2.temp).alias(\"mean\"), \n",
    "    stddev(luganoDF2.temp).alias(\"sd\"),\n",
    "    count(luganoDF2.temp).alias(\"count\"),\n",
    ").collect()"
   ]
  },
  {
   "cell_type": "code",
   "execution_count": 7,
   "metadata": {},
   "outputs": [
    {
     "name": "stderr",
     "output_type": "stream",
     "text": [
      "[Stage 6:=============================>                             (1 + 1) / 2]\r"
     ]
    },
    {
     "name": "stdout",
     "output_type": "stream",
     "text": [
      "+-------+-------+-------------------+------------------+\n",
      "|summary|   name|               date|              temp|\n",
      "+-------+-------+-------------------+------------------+\n",
      "|  count|1941171|            1941171|           1941171|\n",
      "|   mean|   null|2.005110770872118E7|13.038331811058942|\n",
      "| stddev|   null| 106526.67229139266| 7.501534667983691|\n",
      "|    min|    LUG|           19870131|             -49.8|\n",
      "|    max|    LUG|           20231231|              48.5|\n",
      "+-------+-------+-------------------+------------------+\n",
      "\n"
     ]
    },
    {
     "name": "stderr",
     "output_type": "stream",
     "text": [
      "                                                                                \r"
     ]
    }
   ],
   "source": [
    "luganoDF.describe().show()"
   ]
  },
  {
   "cell_type": "code",
   "execution_count": 8,
   "metadata": {},
   "outputs": [
    {
     "name": "stdout",
     "output_type": "stream",
     "text": [
      "root\n",
      " |-- name: string (nullable = true)\n",
      " |-- date: string (nullable = true)\n",
      " |-- temp: double (nullable = true)\n",
      " |-- datetime: timestamp (nullable = true)\n",
      " |-- day: string (nullable = true)\n",
      " |-- month: string (nullable = true)\n",
      " |-- year: string (nullable = true)\n",
      "\n"
     ]
    }
   ],
   "source": [
    "import pyspark.sql.functions as F\n",
    "\n",
    "extended = luganoDF2.select(\"*\", \n",
    "    F.date_format(luganoDF2.datetime, 'dd').alias(\"day\"),\n",
    "    F.date_format(luganoDF2.datetime, 'MM').alias(\"month\"),\n",
    "    F.date_format(luganoDF2.datetime, 'yyyy').alias(\"year\")\n",
    ")\n",
    "extended.printSchema()"
   ]
  },
  {
   "cell_type": "code",
   "execution_count": 14,
   "metadata": {},
   "outputs": [
    {
     "name": "stderr",
     "output_type": "stream",
     "text": [
      "\r",
      "[Stage 14:>                                                         (0 + 1) / 1]\r"
     ]
    },
    {
     "name": "stdout",
     "output_type": "stream",
     "text": [
      "23/04/20 17:44:18 WARN PythonRunner: Detected deadlock while completing task 0.0 in stage 14 (TID 12): Attempting to kill Python Worker\n",
      "+----+--------+----+-------------------+---+-----+----+\n",
      "|name|    date|temp|           datetime|day|month|year|\n",
      "+----+--------+----+-------------------+---+-----+----+\n",
      "| LUG|19870201|-1.8|1987-02-01 00:00:00| 01|   02|1987|\n",
      "| LUG|19870201|-1.8|1987-02-01 00:00:00| 01|   02|1987|\n",
      "| LUG|19870201|-2.0|1987-02-01 00:00:00| 01|   02|1987|\n",
      "| LUG|19870201|-2.0|1987-02-01 00:00:00| 01|   02|1987|\n",
      "| LUG|19870201|-2.1|1987-02-01 00:00:00| 01|   02|1987|\n",
      "| LUG|19870201|-2.1|1987-02-01 00:00:00| 01|   02|1987|\n",
      "| LUG|19870201|-2.2|1987-02-01 00:00:00| 01|   02|1987|\n",
      "| LUG|19870201|-2.0|1987-02-01 00:00:00| 01|   02|1987|\n",
      "| LUG|19870201|-2.0|1987-02-01 00:00:00| 01|   02|1987|\n",
      "| LUG|19870201|-2.1|1987-02-01 00:00:00| 01|   02|1987|\n",
      "| LUG|19870201|-2.2|1987-02-01 00:00:00| 01|   02|1987|\n",
      "| LUG|19870201|-2.2|1987-02-01 00:00:00| 01|   02|1987|\n",
      "| LUG|19870201|-2.3|1987-02-01 00:00:00| 01|   02|1987|\n",
      "| LUG|19870201|-2.4|1987-02-01 00:00:00| 01|   02|1987|\n",
      "| LUG|19870201|-2.4|1987-02-01 00:00:00| 01|   02|1987|\n",
      "| LUG|19870201|-2.3|1987-02-01 00:00:00| 01|   02|1987|\n",
      "| LUG|19870201|-2.3|1987-02-01 00:00:00| 01|   02|1987|\n",
      "| LUG|19870201|-2.3|1987-02-01 00:00:00| 01|   02|1987|\n",
      "| LUG|19870201|-2.4|1987-02-01 00:00:00| 01|   02|1987|\n",
      "| LUG|19870201|-2.3|1987-02-01 00:00:00| 01|   02|1987|\n",
      "+----+--------+----+-------------------+---+-----+----+\n",
      "only showing top 20 rows\n",
      "\n"
     ]
    },
    {
     "name": "stderr",
     "output_type": "stream",
     "text": [
      "\r",
      "                                                                                \r"
     ]
    }
   ],
   "source": [
    "extended.show()"
   ]
  },
  {
   "cell_type": "code",
   "execution_count": 9,
   "metadata": {},
   "outputs": [
    {
     "name": "stderr",
     "output_type": "stream",
     "text": [
      "[Stage 9:=============================>                             (1 + 1) / 2]\r"
     ]
    },
    {
     "name": "stdout",
     "output_type": "stream",
     "text": [
      "+----+------------------+\n",
      "|year|         avg(temp)|\n",
      "+----+------------------+\n",
      "|1987|12.609940079754475|\n",
      "|1988|12.381475789313907|\n",
      "|1989|12.285871385083706|\n",
      "|1990|12.658131659056473|\n",
      "|1991|12.365108909379032|\n",
      "|1992|12.377701882209953|\n",
      "|1993|12.131948249619393|\n",
      "|1994|13.190601217655882|\n",
      "|1995|12.467914764079072|\n",
      "|1996|12.105940725561618|\n",
      "|1997| 13.00314117199389|\n",
      "|1998|12.460222602739831|\n",
      "|1999|12.578027016742771|\n",
      "|2000|12.963545461445031|\n",
      "|2001|12.767404870623942|\n",
      "|2002|13.149815449010502|\n",
      "|2003|13.756527447436167|\n",
      "|2004| 12.64842896174871|\n",
      "|2005| 12.61109398782343|\n",
      "|2006|13.100783866058082|\n",
      "+----+------------------+\n",
      "only showing top 20 rows\n",
      "\n"
     ]
    },
    {
     "name": "stderr",
     "output_type": "stream",
     "text": [
      "                                                                                \r"
     ]
    }
   ],
   "source": [
    "extended.groupBy(\"year\").mean(\"temp\").orderBy(\"year\").show()"
   ]
  },
  {
   "cell_type": "code",
   "execution_count": 10,
   "metadata": {},
   "outputs": [],
   "source": [
    "extended.createOrReplaceTempView(\"lugano\")"
   ]
  },
  {
   "cell_type": "code",
   "execution_count": 11,
   "metadata": {},
   "outputs": [
    {
     "name": "stderr",
     "output_type": "stream",
     "text": [
      "[Stage 12:>                                                         (0 + 1) / 1]\r"
     ]
    },
    {
     "name": "stdout",
     "output_type": "stream",
     "text": [
      "+----+--------+----+-------------------+---+-----+----+\n",
      "|name|    date|temp|           datetime|day|month|year|\n",
      "+----+--------+----+-------------------+---+-----+----+\n",
      "| LUG|19870131|-0.5|1987-01-31 00:00:00| 31|   01|1987|\n",
      "| LUG|19870131|-0.7|1987-01-31 00:00:00| 31|   01|1987|\n",
      "| LUG|19870131|-0.5|1987-01-31 00:00:00| 31|   01|1987|\n",
      "| LUG|19870131|-0.7|1987-01-31 00:00:00| 31|   01|1987|\n",
      "| LUG|19870131|-0.7|1987-01-31 00:00:00| 31|   01|1987|\n",
      "| LUG|19870131|-0.7|1987-01-31 00:00:00| 31|   01|1987|\n",
      "| LUG|19870131|-0.7|1987-01-31 00:00:00| 31|   01|1987|\n",
      "| LUG|19870131|-0.7|1987-01-31 00:00:00| 31|   01|1987|\n",
      "| LUG|19870131|-0.7|1987-01-31 00:00:00| 31|   01|1987|\n",
      "| LUG|19870131|-0.8|1987-01-31 00:00:00| 31|   01|1987|\n",
      "| LUG|19870131|-1.0|1987-01-31 00:00:00| 31|   01|1987|\n",
      "| LUG|19870131|-0.9|1987-01-31 00:00:00| 31|   01|1987|\n",
      "| LUG|19870131|-0.9|1987-01-31 00:00:00| 31|   01|1987|\n",
      "| LUG|19870131|-1.0|1987-01-31 00:00:00| 31|   01|1987|\n",
      "| LUG|19870131|-1.0|1987-01-31 00:00:00| 31|   01|1987|\n",
      "| LUG|19870131|-1.2|1987-01-31 00:00:00| 31|   01|1987|\n",
      "| LUG|19870131|-1.1|1987-01-31 00:00:00| 31|   01|1987|\n",
      "| LUG|19870131|-1.3|1987-01-31 00:00:00| 31|   01|1987|\n",
      "| LUG|19870131|-1.1|1987-01-31 00:00:00| 31|   01|1987|\n",
      "| LUG|19870131|-1.1|1987-01-31 00:00:00| 31|   01|1987|\n",
      "+----+--------+----+-------------------+---+-----+----+\n",
      "only showing top 20 rows\n",
      "\n"
     ]
    },
    {
     "name": "stderr",
     "output_type": "stream",
     "text": [
      "24/04/08 20:14:58 WARN PythonRunner: Detected deadlock while completing task 0.0 in stage 12 (TID 13): Attempting to kill Python Worker\n",
      "                                                                                \r"
     ]
    }
   ],
   "source": [
    "sqlDF = spark.sql(\"SELECT * FROM lugano\")\n",
    "sqlDF.show()"
   ]
  },
  {
   "cell_type": "code",
   "execution_count": 12,
   "metadata": {},
   "outputs": [
    {
     "name": "stderr",
     "output_type": "stream",
     "text": [
      "[Stage 13:=============================>                            (1 + 1) / 2]\r"
     ]
    },
    {
     "name": "stdout",
     "output_type": "stream",
     "text": [
      "+----+------------------+\n",
      "|year|         avg(temp)|\n",
      "+----+------------------+\n",
      "|1987|12.609940079754475|\n",
      "|1988|12.381475789313907|\n",
      "|1989|12.285871385083706|\n",
      "|1990|12.658131659056473|\n",
      "|1991|12.365108909379032|\n",
      "|1992|12.377701882209953|\n",
      "|1993|12.131948249619393|\n",
      "|1994|13.190601217655882|\n",
      "|1995|12.467914764079072|\n",
      "|1996|12.105940725561618|\n",
      "|1997| 13.00314117199389|\n",
      "|1998|12.460222602739831|\n",
      "|1999|12.578027016742771|\n",
      "|2000|12.963545461445031|\n",
      "|2001|12.767404870623942|\n",
      "|2002|13.149815449010502|\n",
      "|2003|13.756527447436167|\n",
      "|2004| 12.64842896174871|\n",
      "|2005| 12.61109398782343|\n",
      "|2006|13.100783866058082|\n",
      "+----+------------------+\n",
      "only showing top 20 rows\n",
      "\n"
     ]
    },
    {
     "name": "stderr",
     "output_type": "stream",
     "text": [
      "                                                                                \r"
     ]
    }
   ],
   "source": [
    "spark.sql(\"SELECT year, avg(temp) FROM lugano group by year order by year\").show()"
   ]
  },
  {
   "cell_type": "code",
   "execution_count": 15,
   "metadata": {},
   "outputs": [
    {
     "name": "stderr",
     "output_type": "stream",
     "text": [
      "                                                                                \r"
     ]
    }
   ],
   "source": [
    "luganoRDD = spark.sql(\"SELECT year, avg(temp) FROM lugano group by year order by year\").rdd"
   ]
  },
  {
   "cell_type": "code",
   "execution_count": 16,
   "metadata": {},
   "outputs": [
    {
     "data": {
      "text/plain": [
       "[('1987', 12.609940079754475),\n",
       " ('1988', 12.381475789313907),\n",
       " ('1989', 12.285871385083706),\n",
       " ('1990', 12.658131659056473),\n",
       " ('1991', 12.365108909379032)]"
      ]
     },
     "execution_count": 16,
     "metadata": {},
     "output_type": "execute_result"
    }
   ],
   "source": [
    "luganoRDD.map(lambda r: (r[0],r[1])).take(5)"
   ]
  },
  {
   "cell_type": "code",
   "execution_count": 19,
   "metadata": {},
   "outputs": [
    {
     "name": "stderr",
     "output_type": "stream",
     "text": [
      "[Stage 47:=============================>                            (1 + 1) / 2]\r"
     ]
    },
    {
     "name": "stdout",
     "output_type": "stream",
     "text": [
      "+----+-------------------+------------------+\n",
      "|year|                 01|                02|\n",
      "+----+-------------------+------------------+\n",
      "|1987|-0.7208333333333338|3.9490079365079365|\n",
      "|1988|  4.579637096774185| 5.258117816091952|\n",
      "|1989| 3.3469086021505383| 5.767137896825386|\n",
      "|1990|  2.526993727598567| 7.074875992063496|\n",
      "|1991|  3.034363799283159|2.5046626984126994|\n",
      "|1992|  3.010797491039433| 5.774688697318009|\n",
      "|1993| 3.8200940860215105| 4.345312499999995|\n",
      "|1994|  4.527889784946228|3.8477678571428586|\n",
      "|1995|  3.042831541218637|  6.28732638888888|\n",
      "|1996|    4.4456317204301|3.6754789272030775|\n",
      "|1997| 3.7414874551971375| 6.294419642857146|\n",
      "|1998| 3.9593637992831434| 6.711135912698412|\n",
      "|1999|  3.856272401433706|   4.1544642857143|\n",
      "|2000| 3.4504480286738315| 6.161398467432961|\n",
      "|2001|  3.636447132616486| 6.291319444444443|\n",
      "|2002| 2.3302195340501806| 6.245957341269835|\n",
      "|2003|  4.043145161290318|2.7835317460317457|\n",
      "|2004| 3.4818100358422956| 4.637763409961673|\n",
      "|2005| 3.5363351254480375|3.6496279761904677|\n",
      "|2006| 2.1465501792114723| 3.610863095238096|\n",
      "|2007| 6.3517473118279595| 7.113318452380937|\n",
      "|2008|  4.543077956989236| 5.658668582375476|\n",
      "|2009|  2.606115591397847| 4.956299603174598|\n",
      "|2010|  2.080734767025093| 4.113045634920629|\n",
      "|2011| 3.1552643369175586| 5.405530753968252|\n",
      "|2012|  4.469332437276009| 2.639224137931037|\n",
      "|2013|  4.758512544802869| 3.680282738095239|\n",
      "|2014|  4.764628136200722| 5.763566468253951|\n",
      "|2015|  5.092943548387088| 4.919518849206337|\n",
      "|2016|  4.128696236559133| 6.473060344827567|\n",
      "|2017| 2.2050851254480324| 6.189285714285711|\n",
      "|2018|   5.58698476702508| 3.773462301587286|\n",
      "|2019|  5.070676523297478| 6.404464285714272|\n",
      "|2020|  4.952531362007167| 7.779070881226032|\n",
      "|2021| 3.5002016129032194|  6.97663690476189|\n",
      "|2022| 5.4405017921146905| 7.123784722222214|\n",
      "|2023|  5.441241039426487| 6.816319444444449|\n",
      "+----+-------------------+------------------+\n",
      "\n"
     ]
    },
    {
     "name": "stderr",
     "output_type": "stream",
     "text": [
      "                                                                                \r"
     ]
    }
   ],
   "source": [
    "#Pivot\n",
    "extended.groupBy(\"year\").pivot(\"month\",  [\"01\", \"02\"]).mean(\"temp\").orderBy(\"year\").show(40)"
   ]
  },
  {
   "cell_type": "markdown",
   "metadata": {},
   "source": [
    "# Online Retail\n",
    "\n",
    "Questo dataset continene acquisti effettuati da clienti internazionali su un sito web inglese. Le transazioni coprono il periodo da dicembre 2010 a dicembre 2011.\n",
    "\n",
    "Per adempiere allo scopo di questo tutorial, il dataset è stato convertito in formato CSV (OnlineRetail.csv).\n",
    "\n",
    "Il sito originale del dataset è:\n",
    "\n",
    "https://archive.ics.uci.edu/ml/datasets/Online+Retail"
   ]
  },
  {
   "cell_type": "markdown",
   "metadata": {},
   "source": [
    "## Loading\n",
    "\n",
    "Iniziamo con il caricare il dataset e capire un po cosa contiene. In molte situazioni il contenuto e la struttura sono noti. \n",
    "Conviene però comuqnue controllare che tutto sia corretto e che non vi sono sorprese.\n",
    "\n",
    "**NOTA**: La prima linea del file CSV continene i nomi delle colonne. \n",
    "\n",
    "<a href=\"http://spark.apache.org/docs/latest/api/python/pyspark.sql.html#pyspark.sql.DataFrameReader\">``spark.read``</a> \n",
    "è un istanza di un DataFrameReader. Esso permette di caricare un certo numero di formati file. \n",
    "Tutti i formati sono in qualche modo basati su tabelle/record. Il file può trovarsi nel file system locale, su hdfs, jdbc, etc. "
   ]
  },
  {
   "cell_type": "code",
   "execution_count": 21,
   "metadata": {},
   "outputs": [
    {
     "name": "stdout",
     "output_type": "stream",
     "text": [
      "+---------+---------+--------------------+--------+--------------+---------+----------+--------------+\n",
      "|InvoiceNo|StockCode|         Description|Quantity|   InvoiceDate|UnitPrice|CustomerID|       Country|\n",
      "+---------+---------+--------------------+--------+--------------+---------+----------+--------------+\n",
      "|   536365|   85123A|WHITE HANGING HEA...|       6|01/12/10 08:26|     2.55|     17850|United Kingdom|\n",
      "|   536365|    71053| WHITE METAL LANTERN|       6|01/12/10 08:26|     3.39|     17850|United Kingdom|\n",
      "|   536365|   84406B|CREAM CUPID HEART...|       8|01/12/10 08:26|     2.75|     17850|United Kingdom|\n",
      "|   536365|   84029G|KNITTED UNION FLA...|       6|01/12/10 08:26|     3.39|     17850|United Kingdom|\n",
      "|   536365|   84029E|RED WOOLLY HOTTIE...|       6|01/12/10 08:26|     3.39|     17850|United Kingdom|\n",
      "|   536365|    22752|SET 7 BABUSHKA NE...|       2|01/12/10 08:26|     7.65|     17850|United Kingdom|\n",
      "|   536365|    21730|GLASS STAR FROSTE...|       6|01/12/10 08:26|     4.25|     17850|United Kingdom|\n",
      "|   536366|    22633|HAND WARMER UNION...|       6|01/12/10 08:28|     1.85|     17850|United Kingdom|\n",
      "|   536366|    22632|HAND WARMER RED P...|       6|01/12/10 08:28|     1.85|     17850|United Kingdom|\n",
      "|   536367|    84879|ASSORTED COLOUR B...|      32|01/12/10 08:34|     1.69|     13047|United Kingdom|\n",
      "|   536367|    22745|POPPY'S PLAYHOUSE...|       6|01/12/10 08:34|      2.1|     13047|United Kingdom|\n",
      "|   536367|    22748|POPPY'S PLAYHOUSE...|       6|01/12/10 08:34|      2.1|     13047|United Kingdom|\n",
      "|   536367|    22749|FELTCRAFT PRINCES...|       8|01/12/10 08:34|     3.75|     13047|United Kingdom|\n",
      "|   536367|    22310|IVORY KNITTED MUG...|       6|01/12/10 08:34|     1.65|     13047|United Kingdom|\n",
      "|   536367|    84969|BOX OF 6 ASSORTED...|       6|01/12/10 08:34|     4.25|     13047|United Kingdom|\n",
      "|   536367|    22623|BOX OF VINTAGE JI...|       3|01/12/10 08:34|     4.95|     13047|United Kingdom|\n",
      "|   536367|    22622|BOX OF VINTAGE AL...|       2|01/12/10 08:34|     9.95|     13047|United Kingdom|\n",
      "|   536367|    21754|HOME BUILDING BLO...|       3|01/12/10 08:34|     5.95|     13047|United Kingdom|\n",
      "|   536367|    21755|LOVE BUILDING BLO...|       3|01/12/10 08:34|     5.95|     13047|United Kingdom|\n",
      "|   536367|    21777|RECIPE BOX WITH M...|       4|01/12/10 08:34|     7.95|     13047|United Kingdom|\n",
      "+---------+---------+--------------------+--------+--------------+---------+----------+--------------+\n",
      "only showing top 20 rows\n",
      "\n"
     ]
    }
   ],
   "source": [
    "online_retail = spark.read.option(\"header\", True).csv(\"OnlineRetail.csv\")\n",
    "online_retail.show()"
   ]
  },
  {
   "cell_type": "markdown",
   "metadata": {},
   "source": [
    "Quante righe contiente il file?"
   ]
  },
  {
   "cell_type": "code",
   "execution_count": 22,
   "metadata": {},
   "outputs": [
    {
     "data": {
      "text/plain": [
       "541909"
      ]
     },
     "execution_count": 22,
     "metadata": {},
     "output_type": "execute_result"
    }
   ],
   "source": [
    "online_retail.count()"
   ]
  },
  {
   "cell_type": "markdown",
   "metadata": {},
   "source": [
    "Mostrare le prime 5 righe."
   ]
  },
  {
   "cell_type": "code",
   "execution_count": 23,
   "metadata": {},
   "outputs": [
    {
     "name": "stdout",
     "output_type": "stream",
     "text": [
      "+---------+---------+--------------------+--------+--------------+---------+----------+--------------+\n",
      "|InvoiceNo|StockCode|         Description|Quantity|   InvoiceDate|UnitPrice|CustomerID|       Country|\n",
      "+---------+---------+--------------------+--------+--------------+---------+----------+--------------+\n",
      "|   536365|   85123A|WHITE HANGING HEA...|       6|01/12/10 08:26|     2.55|     17850|United Kingdom|\n",
      "|   536365|    71053| WHITE METAL LANTERN|       6|01/12/10 08:26|     3.39|     17850|United Kingdom|\n",
      "|   536365|   84406B|CREAM CUPID HEART...|       8|01/12/10 08:26|     2.75|     17850|United Kingdom|\n",
      "|   536365|   84029G|KNITTED UNION FLA...|       6|01/12/10 08:26|     3.39|     17850|United Kingdom|\n",
      "|   536365|   84029E|RED WOOLLY HOTTIE...|       6|01/12/10 08:26|     3.39|     17850|United Kingdom|\n",
      "+---------+---------+--------------------+--------+--------------+---------+----------+--------------+\n",
      "only showing top 5 rows\n",
      "\n"
     ]
    }
   ],
   "source": [
    "online_retail.show(5)"
   ]
  },
  {
   "cell_type": "markdown",
   "metadata": {},
   "source": [
    "Che tipi di dati abbiamo? Sono tutte stringhe? Oppure ci sono anche altri tipi di dati?"
   ]
  },
  {
   "cell_type": "markdown",
   "metadata": {},
   "source": [
    "    Ci sono valori numerici (Quantity e UnitPrice) e date (InvoicePrice)"
   ]
  },
  {
   "cell_type": "markdown",
   "metadata": {},
   "source": [
    "Quale schema ha creato Spark per questi dati? (hint: Usare printSchema())"
   ]
  },
  {
   "cell_type": "code",
   "execution_count": 24,
   "metadata": {},
   "outputs": [
    {
     "name": "stdout",
     "output_type": "stream",
     "text": [
      "root\n",
      " |-- InvoiceNo: string (nullable = true)\n",
      " |-- StockCode: string (nullable = true)\n",
      " |-- Description: string (nullable = true)\n",
      " |-- Quantity: string (nullable = true)\n",
      " |-- InvoiceDate: string (nullable = true)\n",
      " |-- UnitPrice: string (nullable = true)\n",
      " |-- CustomerID: string (nullable = true)\n",
      " |-- Country: string (nullable = true)\n",
      "\n"
     ]
    }
   ],
   "source": [
    "online_retail.printSchema()"
   ]
  },
  {
   "cell_type": "markdown",
   "metadata": {},
   "source": [
    "Ricaricare il file ma questa volta specificando manualmente lo schema del dataset"
   ]
  },
  {
   "cell_type": "code",
   "execution_count": 25,
   "metadata": {},
   "outputs": [],
   "source": [
    "from pyspark.sql.types import *\n",
    "schema = StructType([\n",
    "    StructField(\"InvoiceNo\",   StringType(),  True),\n",
    "    StructField(\"StockCode\",   StringType(),  True),\n",
    "    StructField(\"Description\", StringType(),  True),\n",
    "    StructField(\"Quantity\",    IntegerType(), True),\n",
    "    StructField(\"InvoiceDate\", StringType(),  True),\n",
    "    StructField(\"UnitPrice\",   DoubleType(),  True),\n",
    "    StructField(\"CustomerID\",  IntegerType(), True),\n",
    "    StructField(\"Country\",     StringType(),  True)\n",
    "])"
   ]
  },
  {
   "cell_type": "code",
   "execution_count": 26,
   "metadata": {},
   "outputs": [],
   "source": [
    "\n",
    "online_retail = (spark\n",
    "                 .read\n",
    "                 .option(\"header\", True)\n",
    "                 .schema(schema)\n",
    "                 .csv(\"OnlineRetail.csv\"))"
   ]
  },
  {
   "cell_type": "markdown",
   "metadata": {},
   "source": [
    "Quale schema ha questo dataframe, ora?"
   ]
  },
  {
   "cell_type": "code",
   "execution_count": 27,
   "metadata": {},
   "outputs": [
    {
     "name": "stdout",
     "output_type": "stream",
     "text": [
      "root\n",
      " |-- InvoiceNo: string (nullable = true)\n",
      " |-- StockCode: string (nullable = true)\n",
      " |-- Description: string (nullable = true)\n",
      " |-- Quantity: integer (nullable = true)\n",
      " |-- InvoiceDate: string (nullable = true)\n",
      " |-- UnitPrice: double (nullable = true)\n",
      " |-- CustomerID: integer (nullable = true)\n",
      " |-- Country: string (nullable = true)\n",
      "\n"
     ]
    }
   ],
   "source": [
    "online_retail.printSchema()"
   ]
  },
  {
   "cell_type": "markdown",
   "metadata": {},
   "source": [
    "## Conversione della data\n",
    "\n",
    "La data (InvoiceDate) non è stata riconosciuta come tale.\n",
    "Se essa seguisse il formato ``yyyy/MM/dd HH:mm`` un caricamento con ``inferSchema`` capirebbe il tipo. Qui però abbiamo ``dd/MM/yy HH:mm``.\n",
    "\n",
    "Applicare una conversione utilizzando la funzione ``unix_timestamp``, come fatto in precedenza sui dati di Lugano."
   ]
  },
  {
   "cell_type": "code",
   "execution_count": 28,
   "metadata": {},
   "outputs": [
    {
     "name": "stdout",
     "output_type": "stream",
     "text": [
      "root\n",
      " |-- InvoiceNo: string (nullable = true)\n",
      " |-- StockCode: string (nullable = true)\n",
      " |-- Description: string (nullable = true)\n",
      " |-- Quantity: integer (nullable = true)\n",
      " |-- InvoiceDate: timestamp (nullable = true)\n",
      " |-- UnitPrice: double (nullable = true)\n",
      " |-- CustomerID: integer (nullable = true)\n",
      " |-- Country: string (nullable = true)\n",
      "\n"
     ]
    }
   ],
   "source": [
    "import pyspark.sql.functions as F\n",
    "\n",
    "online_retail = (online_retail\n",
    "                 .withColumn(\"InvoiceDate\", \n",
    "                     F.unix_timestamp(online_retail.InvoiceDate, \"dd/MM/yy HH:mm\").\n",
    "                     cast(\"timestamp\")))\n",
    "\n",
    "online_retail.printSchema()"
   ]
  },
  {
   "cell_type": "markdown",
   "metadata": {},
   "source": [
    "## Qualche prima statistica\n",
    "\n",
    "Adesso che abbiamo i tipi corretti possiamo procedere con alcune statistiche sui dati. Queste potrebbero permetterci di capire un po' di più i nostri dati.\n",
    "\n",
    "Qual è il valore minimo e massimo per la quantità?\n",
    "Quali Country sono specificate?\n",
    "Qual è il prezzo minimo e massimo?\n",
    "\n",
    "Ci sono dei dati un po' sballati, o con poco senso?"
   ]
  },
  {
   "cell_type": "code",
   "execution_count": 29,
   "metadata": {},
   "outputs": [
    {
     "name": "stderr",
     "output_type": "stream",
     "text": [
      "[Stage 62:>                                                         (0 + 1) / 1]\r"
     ]
    },
    {
     "name": "stdout",
     "output_type": "stream",
     "text": [
      "+-------+------------------+-----------------+-----------+\n",
      "|summary|          Quantity|        UnitPrice|    Country|\n",
      "+-------+------------------+-----------------+-----------+\n",
      "|  count|            541909|           541909|     541909|\n",
      "|   mean|  9.55224954743324|4.611113626083471|       null|\n",
      "| stddev|218.08115785023355|96.75985306117803|       null|\n",
      "|    min|            -80995|        -11062.06|  Australia|\n",
      "|    max|             80995|          38970.0|Unspecified|\n",
      "+-------+------------------+-----------------+-----------+\n",
      "\n"
     ]
    },
    {
     "name": "stderr",
     "output_type": "stream",
     "text": [
      "                                                                                \r"
     ]
    }
   ],
   "source": [
    "online_retail.describe(\"Quantity\", \"UnitPrice\", \"Country\").show()"
   ]
  },
  {
   "cell_type": "code",
   "execution_count": 30,
   "metadata": {},
   "outputs": [
    {
     "name": "stdout",
     "output_type": "stream",
     "text": [
      "+--------------------+\n",
      "|             Country|\n",
      "+--------------------+\n",
      "|              Sweden|\n",
      "|           Singapore|\n",
      "|             Germany|\n",
      "|                 RSA|\n",
      "|              France|\n",
      "|              Greece|\n",
      "|  European Community|\n",
      "|             Belgium|\n",
      "|             Finland|\n",
      "|               Malta|\n",
      "|         Unspecified|\n",
      "|               Italy|\n",
      "|                EIRE|\n",
      "|           Lithuania|\n",
      "|              Norway|\n",
      "|               Spain|\n",
      "|             Denmark|\n",
      "|           Hong Kong|\n",
      "|             Iceland|\n",
      "|              Israel|\n",
      "|     Channel Islands|\n",
      "|                 USA|\n",
      "|              Cyprus|\n",
      "|        Saudi Arabia|\n",
      "|         Switzerland|\n",
      "|United Arab Emirates|\n",
      "|              Canada|\n",
      "|      Czech Republic|\n",
      "|              Brazil|\n",
      "|             Lebanon|\n",
      "|               Japan|\n",
      "|              Poland|\n",
      "|            Portugal|\n",
      "|           Australia|\n",
      "|             Austria|\n",
      "|             Bahrain|\n",
      "|      United Kingdom|\n",
      "|         Netherlands|\n",
      "+--------------------+\n",
      "\n"
     ]
    }
   ],
   "source": [
    "online_retail.select(\"Country\").distinct().show(40)"
   ]
  },
  {
   "cell_type": "markdown",
   "metadata": {},
   "source": [
    "Country non specificata (\"Unspecified\")?\n",
    "\n",
    "Quantità negative, o troppo alte (80995)?\n",
    "\n",
    "Prezzi negativi?"
   ]
  },
  {
   "cell_type": "markdown",
   "metadata": {},
   "source": [
    "## Pivot\n",
    "\n",
    "La funzione di pivot è disponibile quando si stà raggruppoando valori. Con essa è possibile portare nelle colonne i singoli valori di un attributo.\n",
    "\n",
    "Usando la funzione <a href=\"http://spark.apache.org/docs/2.3.0/api/python/pyspark.sql.html#pyspark.sql.functions.quarter\">``quarter``</a> e la funzione <a href=\"http://spark.apache.org/docs/2.3.0/api/python/pyspark.sql.html#pyspark.sql.GroupedData.pivot\"> ``pivot``</a> applicare una pivot al dataset per visualizzare, per ogni quarter, le vendite in base al giorno della settimana."
   ]
  },
  {
   "cell_type": "code",
   "execution_count": 31,
   "metadata": {},
   "outputs": [
    {
     "name": "stdout",
     "output_type": "stream",
     "text": [
      "+-------+----+------+-------------------+-----+\n",
      "|quarter|year|daynum|        InvoiceDate|sales|\n",
      "+-------+----+------+-------------------+-----+\n",
      "|      4|2010|   Wed|2010-12-01 08:26:00|   15|\n",
      "|      4|2010|   Wed|2010-12-01 08:26:00|   20|\n",
      "|      4|2010|   Wed|2010-12-01 08:26:00|   22|\n",
      "|      4|2010|   Wed|2010-12-01 08:26:00|   20|\n",
      "|      4|2010|   Wed|2010-12-01 08:26:00|   20|\n",
      "+-------+----+------+-------------------+-----+\n",
      "only showing top 5 rows\n",
      "\n"
     ]
    }
   ],
   "source": [
    "extended = online_retail.select(\"*\", \n",
    "    F.date_format(online_retail.InvoiceDate, 'E').alias(\"daynum\"),\n",
    "    F.date_format(online_retail.InvoiceDate, 'yyyy').alias(\"year\"),\n",
    "    F.quarter(online_retail.InvoiceDate).alias(\"quarter\"),\n",
    "    F.floor(online_retail.UnitPrice * online_retail.Quantity).alias(\"sales\")\n",
    ")\n",
    "extended.select(\"quarter\", \"year\", \"daynum\", \"InvoiceDate\", \"sales\").show(5)"
   ]
  },
  {
   "cell_type": "code",
   "execution_count": 32,
   "metadata": {},
   "outputs": [
    {
     "name": "stderr",
     "output_type": "stream",
     "text": [
      "[Stage 77:>                                                         (0 + 1) / 1]\r"
     ]
    },
    {
     "name": "stdout",
     "output_type": "stream",
     "text": [
      "+-------+------+------+------+------+------+------+\n",
      "|quarter|   Fri|   Mon|   Sun|   Thu|   Tue|   Wed|\n",
      "+-------+------+------+------+------+------+------+\n",
      "|      1|286395|281171|107156|341152|410848|265088|\n",
      "|      3|337070|339692|218391|575317|471944|379883|\n",
      "|      4|618292|680239|290188|713541|622829|684621|\n",
      "|      2|258889|240311|156266|431730|410515|358206|\n",
      "+-------+------+------+------+------+------+------+\n",
      "\n"
     ]
    },
    {
     "name": "stderr",
     "output_type": "stream",
     "text": [
      "                                                                                \r"
     ]
    }
   ],
   "source": [
    "data = extended.groupBy(\"quarter\").pivot(\"daynum\").sum(\"sales\")\n",
    "data.show()"
   ]
  },
  {
   "cell_type": "code",
   "execution_count": 33,
   "metadata": {},
   "outputs": [
    {
     "name": "stdout",
     "output_type": "stream",
     "text": [
      "DataFrame[quarter: int, Fri: bigint, Mon: bigint, Sun: bigint, Thu: bigint, Tue: bigint, Wed: bigint, qs: vector]\n"
     ]
    },
    {
     "name": "stderr",
     "output_type": "stream",
     "text": [
      "                                                                                \r"
     ]
    }
   ],
   "source": [
    "from pyspark.ml.feature import VectorAssembler\n",
    "d2=VectorAssembler(inputCols=[\"Mon\",\"Tue\",\"Wed\",\"Thu\",\"Fri\", \"Sun\"], outputCol=\"qs\").transform(data)\n",
    "print(d2)\n",
    "series = d2.select(data.quarter.alias(\"series\"), d2.qs).collect()"
   ]
  },
  {
   "cell_type": "code",
   "execution_count": 34,
   "metadata": {},
   "outputs": [
    {
     "data": {
      "image/png": "[encoded data removed]",
      "text/plain": [
       "<Figure size 640x480 with 1 Axes>"
      ]
     },
     "metadata": {
      "image/png": {
       "height": 413,
       "width": 578
      }
     },
     "output_type": "display_data"
    }
   ],
   "source": [
    "%matplotlib inline\n",
    "%config InlineBackend.figure_format = 'retina'\n",
    "\n",
    "import matplotlib.pyplot as plt\n",
    "\n",
    "for quarter in series:\n",
    "    plt.plot(quarter.qs, label=\"Q%s\"%quarter.series)\n",
    "\n",
    "plt.legend()\n",
    "plt.show()"
   ]
  },
  {
   "cell_type": "code",
   "execution_count": null,
   "metadata": {},
   "outputs": [],
   "source": []
  }
 ],
 "metadata": {
  "kernelspec": {
   "display_name": "Python 3 (ipykernel)",
   "language": "python",
   "name": "python3"
  },
  "language_info": {
   "codemirror_mode": {
    "name": "ipython",
    "version": 3
   },
   "file_extension": ".py",
   "mimetype": "text/x-python",
   "name": "python",
   "nbconvert_exporter": "python",
   "pygments_lexer": "ipython3",
   "version": "3.11.8"
  }
 },
 "nbformat": 4,
 "nbformat_minor": 4
}
